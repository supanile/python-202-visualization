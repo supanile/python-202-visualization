{
 "cells": [
  {
   "cell_type": "raw",
   "id": "626da633-8a66-4b00-a27c-76aba7aafdb4",
   "metadata": {},
   "source": [
    "Test Notebook With Print"
   ]
  },
  {
   "cell_type": "code",
   "execution_count": 5,
   "id": "41fcc8c1-6639-4536-987b-af3d9920218d",
   "metadata": {},
   "outputs": [
    {
     "name": "stdout",
     "output_type": "stream",
     "text": [
      "Hello, World\n"
     ]
    }
   ],
   "source": [
    "print(\"Hello, World\")"
   ]
  },
  {
   "cell_type": "code",
   "execution_count": 1,
   "id": "e6e998c5-cb40-42f1-b969-de41881b667e",
   "metadata": {},
   "outputs": [],
   "source": [
    "import pandas as pd"
   ]
  },
  {
   "cell_type": "code",
   "execution_count": 4,
   "id": "f15e3eee-171c-40ad-9c59-27f7da9e15dc",
   "metadata": {},
   "outputs": [],
   "source": [
    "df = pd.read_csv(\"employees.csv\")"
   ]
  },
  {
   "cell_type": "code",
   "execution_count": 5,
   "id": "f6329cef-bc59-42ca-b1b8-2c7cf4a28fb3",
   "metadata": {},
   "outputs": [
    {
     "name": "stdout",
     "output_type": "stream",
     "text": [
      "            Name  Age   Department  Salary\n",
      "0       John Doe   28  Engineering   50000\n",
      "1     Jane Smith   35    Marketing   60000\n",
      "2    Emily Davis   22        Sales   45000\n",
      "3  Michael Brown   40           HR   65000\n",
      "4   Laura Wilson   30  Engineering   55000\n"
     ]
    }
   ],
   "source": [
    "print(df)"
   ]
  },
  {
   "cell_type": "code",
   "execution_count": null,
   "id": "6950f1d9-1d3f-4aba-8832-98509c55abfc",
   "metadata": {},
   "outputs": [],
   "source": []
  }
 ],
 "metadata": {
  "kernelspec": {
   "display_name": "Python 3 (ipykernel)",
   "language": "python",
   "name": "python3"
  },
  "language_info": {
   "codemirror_mode": {
    "name": "ipython",
    "version": 3
   },
   "file_extension": ".py",
   "mimetype": "text/x-python",
   "name": "python",
   "nbconvert_exporter": "python",
   "pygments_lexer": "ipython3",
   "version": "3.12.7"
  }
 },
 "nbformat": 4,
 "nbformat_minor": 5
}
